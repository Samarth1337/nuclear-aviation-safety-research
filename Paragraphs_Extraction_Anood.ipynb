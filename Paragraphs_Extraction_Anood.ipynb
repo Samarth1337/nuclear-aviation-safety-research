{
 "cells": [
  {
   "cell_type": "markdown",
   "id": "c7a1a9d3",
   "metadata": {},
   "source": [
    "### 1) Importing libraries"
   ]
  },
  {
   "cell_type": "code",
   "execution_count": 1,
   "id": "bac48d49",
   "metadata": {},
   "outputs": [],
   "source": [
    "import pdfplumber\n",
    "import regex as re\n",
    "from collections import defaultdict"
   ]
  },
  {
   "cell_type": "markdown",
   "id": "d05188b4",
   "metadata": {},
   "source": [
    "### 2) Extracting text page-by-page"
   ]
  },
  {
   "cell_type": "code",
   "execution_count": 2,
   "id": "5fa24dde",
   "metadata": {},
   "outputs": [],
   "source": [
    "page_text = {}\n",
    "with pdfplumber.open(r'DCISC_Annual_Reports/DCISC-31st-Annual-Report.pdf') as pdf:\n",
    "    page_numbers = len(pdf.pages)\n",
    "    for num in range(page_numbers):\n",
    "        page = pdf.pages[num] \n",
    "        page_text[num+1] = page.extract_text()"
   ]
  },
  {
   "cell_type": "code",
   "execution_count": 3,
   "id": "0a5f0010",
   "metadata": {},
   "outputs": [
    {
     "data": {
      "text/plain": [
       "\"st\\n31  Annual Report by the Diablo Canyon Independent Safety Committee, July 1, 2020—June 30,\\n2021\\nPreface | Executive Summary\\nVolume I TOC | Volume II TOC | PG&E Response | Contact the DCISC\\nst\\n31  Annual Report, Volume II, Exhibit B.3, Minutes of the October\\n22-23, 2020 Public Meeting\\nMinutes of the Diablo Canyon Independent Safety Committee's October\\n22-23, 2020 Public Meeting [Approval at the February 16-17, 2021 Public\\nMeeting.]\\nThursday & Friday\\nOctober 22-23, 2020\\nConducted online as a Zoom webinar.\\nIn response to Governor Newsom's Executive Order N.29-20 related to the COVID-19\\n(coronavirus) pandemic, public participation in this DCISC public meeting was by\\nelectronic means only and without a physical location for public participation, in\\ncompliance with California state guidelines on social distancing. This meeting was\\nproduced by AGP Video Inc. and webcast live on SLO-SPAN at http://www.slo-span.org\\nand was subsequently broadcast on San Luis Obispo local government access television\\nChannel 21.  A permanent video of the meeting can be viewed at the DCISC website, at\\nhttps://www.dcisc.org  \\n        Notice of Meeting.\\n        A legal notice of the public meeting and several display advertisements were\\npublished in local newspapers and mailed to the media and those persons on the\\nCommittee's service list.  The meeting agenda and the entire agenda packet for the\\nmeeting together with the informational presentations made during the meeting were\\nposted on the Committee's website at www.dcisc.org prior to the meeting and the\\nmeeting, agenda contained information on how to access the webinar using a computer\\nor a telephone.\\n        Agenda\\nI           CALL TO ORDER - ROLL\\nCALL                                                                                               \\n        The October 22, 2020, public meeting of the Diablo Canyon Independent Safety\\nCommittee (DCISC), the ninety-seventh public meeting of the Committee, was called to\\norder by Committee Chair Dr. Peter Lam at 9:00 A.M. Dr. Lam introduced himself as the\\nappointee of the California Energy Commission and currently serving DCISC Chair and he\\nbriefly reviewed the professional backgrounds, achievements and the appointment to the\\nDCISC and tenure for each of his fellow DCISC Members, Dr. Robert J. Budnitz, the\""
      ]
     },
     "execution_count": 3,
     "metadata": {},
     "output_type": "execute_result"
    }
   ],
   "source": [
    "page_text[196]"
   ]
  },
  {
   "cell_type": "code",
   "execution_count": 4,
   "id": "3fd76690",
   "metadata": {},
   "outputs": [
    {
     "data": {
      "text/plain": [
       "\"st\\n31  Annual Report by the Diablo Canyon Independent Safety Committee, July 1, 2020—June 30,\\n2021\\nPreface | Executive Summary\\nVolume I TOC | Volume II TOC | PG&E Response | Contact the DCISC\\nst\\n31  Annual Report, Volume I, Section 4.5, Health, Nuclear Safety\\nCulture, and Safety Conscious Work Environment\\n4.5 Nuclear Safety Culture, and Safety Conscious Work Environment\\n4.5.1 Overview and Previous Activities\\nThe purpose of Nuclear Safety Culture, and Safety Conscious Work\\nEnvironment (SCWE) is twofold: 1) the health of the individual employee, and 2)\\nnuclear and personnel safety as the context and requirement for all DCPP\\nemployees. Included in the area are all health related issues. This section also\\nfocuses on Safety as a contextual, cultural requirement.\\nIn the previous reviewing period (2017-2018) the DCISC reviewed the following:\\nNuclear Safety Culture\\nThe DCISC concluded the following:\\nThe DCPP Nuclear Safety Culture Monitoring Panel and the Safety Culture\\nLeadership Team identified an Improvement Opportunity that employee perception\\nof the station's ability to maintain a proficient workforce is causing distraction. This\\nmatches the DCISC concern about retention of qualified, experienced personnel\\nnecessary to operate DCPP at an appropriate level of safety. The DCISC will\\ncontinue to monitor this area closely.\\n4.5.2 Current Period Activities\\nDuring the current period, the DCISC reviewed the following topics that\\nfocused specifically on Health, Nuclear Safety Culture, or Safety Conscious Work\\nEnvironment:\\nEmployee Concerns Program\\nEmployee Concerns Program (Volume II, Exhibit D.2, 3.9)\\nThe purpose of the Employee Concerns Program (ECP) is to be an independent and\\nimpartial investigator of concerns raised by employees.  This is avenue for\\nemployees who for any reason did not wish to report concerns directly to\\nsupervisors or managers.  A specific purpose of the program is to provide such\\nemployees with a method for investigation and resolution of concerns that falls\""
      ]
     },
     "execution_count": 4,
     "metadata": {},
     "output_type": "execute_result"
    }
   ],
   "source": [
    "page_text[394]"
   ]
  },
  {
   "cell_type": "code",
   "execution_count": 5,
   "id": "98da12d0",
   "metadata": {},
   "outputs": [
    {
     "data": {
      "text/plain": [
       "903"
      ]
     },
     "execution_count": 5,
     "metadata": {},
     "output_type": "execute_result"
    }
   ],
   "source": [
    "len(page_text)"
   ]
  },
  {
   "cell_type": "markdown",
   "id": "06c36479",
   "metadata": {},
   "source": [
    "### 3) Tokenizing page text into paragraphs"
   ]
  },
  {
   "cell_type": "code",
   "execution_count": 6,
   "id": "da4834f8",
   "metadata": {
    "scrolled": true
   },
   "outputs": [
    {
     "data": {
      "text/plain": [
       "[\"responsible for the operation of his submarine's nuclear power plant.  Mr\",\n",
       " 'McWhorter then served the U. S. Nuclear Regulatory Commission for ten years first\\nas an Operator Licensing Examiner and then as Senior Resident Inspector at North\\nAnna Power Station.  He then was employed for two years as a Systems\\nEngineering Manager for Dominion Virginia Power at North Anna Power Station',\n",
       " ' For ten years, Mr. McWhorter was employed at Old Dominion Electric Cooperative\\nwhere he served as Vice President of Operations and Asset Management.  Mr',\n",
       " 'McWhorter has been a Consultant to the DCISC since 2016',\n",
       " 'Legal Counsel: Robert R. Wellington, Esq. has been Legal Counsel for the DCISC\\nsince its organization in 1989. He is a graduate of Stanford University and the\\nUniversity of California (Hastings) Law School. For over 40 years his practice has\\nbeen limited to representing several cities, regional wastewater and solid waste\\ndistricts and other public agencies, including the DCISC. He advises the DCISC\\nwith regard to its legal and administrative matters',\n",
       " \"Assistant Legal Counsel Robert Rathie, Esq. has been associated with the\\nCommittee through his work with the Wellington Law Offices since 1993.  He\\nobtained a bachelor's degree in Social Science and History from Chico State\\nUniversity in 1972 and served for 15 years in the U.S. Merchant Marine as chief\\npurser on board passenger and freight vessels in foreign trade.  He received his\\nJuris Doctor degree from Monterey College of Law in 1993.  He is a member of the\\nState Bar of California and the Monterey County Bar Association.  He assists Mr\",\n",
       " 'Wellington in advising the DCISC with regard to its legal and administrative\\nmatters',\n",
       " '    \\nThe DCISC issues a report for each reporting year, which runs from July 1 to June\\n30.  The report is approved by the Committee Members at the fall public meeting\\nfollowing the end of the reporting period. The first six-month interim report and\\nsubsequent thirty annual reports covered the periods January 1, 1990 - June 30,\\n2020',\n",
       " '    \\nThis thirty-first annual report covers the period July 1, 2020 - June 30, 2021',\n",
       " \"The technical items covered during its public meetings were selected by the DCISC\\nbased on the DCISC's own priorities concerning which technical issues are\\nimportant to cover.  PG&E then responded by providing presentations and experts\\nto participate in the public meetings as requested. The DCISC also occasionally\\nrequested presentations on relevant issues from others in addition to presentations\\nby PG&E. The following significant items were reviewed during the three public\\nmeetings and nine fact-finding meetings held during this reporting period\",\n",
       " 'DCPP Responses to the COVID-19 Pandemic\\nPerformance During the Unit 1 and 2 22nd Refueling Outages\\nDCPP Joint Proposal\\nDCPP Decommissioning Plan']"
      ]
     },
     "execution_count": 6,
     "metadata": {},
     "output_type": "execute_result"
    }
   ],
   "source": [
    "page_pargraphs = {}\n",
    "for num, text in page_text.items():\n",
    "    split_paragraphs = re.split('\\.\\n|\\d\\)\\n|\\.\\)\\n|:\\n|\\.\\s+\\n',text)\n",
    "    split_paragraphs = [x for x in split_paragraphs if '|' not in x]\n",
    "    if len(split_paragraphs) > 1:\n",
    "        page_pargraphs[num] = split_paragraphs\n",
    "page_pargraphs[8]"
   ]
  },
  {
   "cell_type": "code",
   "execution_count": 7,
   "id": "60857a9c",
   "metadata": {},
   "outputs": [
    {
     "data": {
      "text/plain": [
       "['nuclear and personnel safety as the context and requirement for all DCPP\\nemployees. Included in the area are all health related issues. This section also\\nfocuses on Safety as a contextual, cultural requirement',\n",
       " 'In the previous reviewing period (2017-2018) the DCISC reviewed the following',\n",
       " 'Nuclear Safety Culture\\nThe DCISC concluded the following',\n",
       " \"The DCPP Nuclear Safety Culture Monitoring Panel and the Safety Culture\\nLeadership Team identified an Improvement Opportunity that employee perception\\nof the station's ability to maintain a proficient workforce is causing distraction. This\\nmatches the DCISC concern about retention of qualified, experienced personnel\\nnecessary to operate DCPP at an appropriate level of safety. The DCISC will\\ncontinue to monitor this area closely\",\n",
       " '4.5.2 Current Period Activities\\nDuring the current period, the DCISC reviewed the following topics that\\nfocused specifically on Health, Nuclear Safety Culture, or Safety Conscious Work\\nEnvironment',\n",
       " 'Employee Concerns Program\\nEmployee Concerns Program (Volume II, Exhibit D.2, 3.',\n",
       " 'The purpose of the Employee Concerns Program (ECP) is to be an independent and\\nimpartial investigator of concerns raised by employees.  This is avenue for\\nemployees who for any reason did not wish to report concerns directly to\\nsupervisors or managers.  A specific purpose of the program is to provide such\\nemployees with a method for investigation and resolution of concerns that falls']"
      ]
     },
     "execution_count": 7,
     "metadata": {},
     "output_type": "execute_result"
    }
   ],
   "source": [
    "page_pargraphs[394]"
   ]
  },
  {
   "cell_type": "code",
   "execution_count": 8,
   "id": "e72c20da",
   "metadata": {},
   "outputs": [
    {
     "data": {
      "text/plain": [
       "668"
      ]
     },
     "execution_count": 8,
     "metadata": {},
     "output_type": "execute_result"
    }
   ],
   "source": [
    "len(page_pargraphs)"
   ]
  },
  {
   "cell_type": "markdown",
   "id": "c8737bf4",
   "metadata": {},
   "source": [
    "### 4) Fixing tokenized paragraphs\n",
    "#### First fix: Merging paragraphs that were split after Mr./Ms./Dr."
   ]
  },
  {
   "cell_type": "code",
   "execution_count": 9,
   "id": "2c9931a2",
   "metadata": {},
   "outputs": [
    {
     "data": {
      "text/plain": [
       "[\"responsible for the operation of his submarine's nuclear power plant.  Mr McWhorter then served the U. S. Nuclear Regulatory Commission for ten years first\\nas an Operator Licensing Examiner and then as Senior Resident Inspector at North\\nAnna Power Station.  He then was employed for two years as a Systems\\nEngineering Manager for Dominion Virginia Power at North Anna Power Station\",\n",
       " ' For ten years, Mr. McWhorter was employed at Old Dominion Electric Cooperative\\nwhere he served as Vice President of Operations and Asset Management.  Mr McWhorter has been a Consultant to the DCISC since 2016',\n",
       " 'Legal Counsel: Robert R. Wellington, Esq. has been Legal Counsel for the DCISC\\nsince its organization in 1989. He is a graduate of Stanford University and the\\nUniversity of California (Hastings) Law School. For over 40 years his practice has\\nbeen limited to representing several cities, regional wastewater and solid waste\\ndistricts and other public agencies, including the DCISC. He advises the DCISC\\nwith regard to its legal and administrative matters',\n",
       " \"Assistant Legal Counsel Robert Rathie, Esq. has been associated with the\\nCommittee through his work with the Wellington Law Offices since 1993.  He\\nobtained a bachelor's degree in Social Science and History from Chico State\\nUniversity in 1972 and served for 15 years in the U.S. Merchant Marine as chief\\npurser on board passenger and freight vessels in foreign trade.  He received his\\nJuris Doctor degree from Monterey College of Law in 1993.  He is a member of the\\nState Bar of California and the Monterey County Bar Association.  He assists Mr Wellington in advising the DCISC with regard to its legal and administrative\\nmatters\",\n",
       " '    \\nThe DCISC issues a report for each reporting year, which runs from July 1 to June\\n30.  The report is approved by the Committee Members at the fall public meeting\\nfollowing the end of the reporting period. The first six-month interim report and\\nsubsequent thirty annual reports covered the periods January 1, 1990 - June 30,\\n2020',\n",
       " '    \\nThis thirty-first annual report covers the period July 1, 2020 - June 30, 2021',\n",
       " \"The technical items covered during its public meetings were selected by the DCISC\\nbased on the DCISC's own priorities concerning which technical issues are\\nimportant to cover.  PG&E then responded by providing presentations and experts\\nto participate in the public meetings as requested. The DCISC also occasionally\\nrequested presentations on relevant issues from others in addition to presentations\\nby PG&E. The following significant items were reviewed during the three public\\nmeetings and nine fact-finding meetings held during this reporting period\",\n",
       " 'DCPP Responses to the COVID-19 Pandemic\\nPerformance During the Unit 1 and 2 22nd Refueling Outages\\nDCPP Joint Proposal\\nDCPP Decommissioning Plan']"
      ]
     },
     "execution_count": 9,
     "metadata": {},
     "output_type": "execute_result"
    }
   ],
   "source": [
    "prefixes = (\"Mr\",\"St\",\"Mrs\",\"Ms\",\"Dr\")\n",
    "\n",
    "fixed_paragraphs = defaultdict(list)\n",
    "\n",
    "for num, paragraphs in page_pargraphs.items():\n",
    "    fix = 0\n",
    "    for paragraph in paragraphs:\n",
    "        loc = paragraphs.index(paragraph)\n",
    "        if fix:\n",
    "            new_paragraph = paragraphs[loc-1]+ ' ' + paragraph\n",
    "            fixed_paragraphs[num].append(new_paragraph)\n",
    "            fix = 0\n",
    "            continue\n",
    "            fix = 0\n",
    "        if paragraph.endswith(prefixes):\n",
    "            fix = 1\n",
    "        else:\n",
    "            fixed_paragraphs[num].append(paragraph)      \n",
    "    \n",
    "fixed_paragraphs[8]"
   ]
  },
  {
   "cell_type": "code",
   "execution_count": 10,
   "id": "d79c2724",
   "metadata": {
    "scrolled": true
   },
   "outputs": [
    {
     "data": {
      "text/plain": [
       "668"
      ]
     },
     "execution_count": 10,
     "metadata": {},
     "output_type": "execute_result"
    }
   ],
   "source": [
    "len(fixed_paragraphs)"
   ]
  },
  {
   "cell_type": "markdown",
   "id": "1e9d57c2",
   "metadata": {},
   "source": [
    "#### Second Fix: Merging paragraphs that were split across two pages"
   ]
  },
  {
   "cell_type": "code",
   "execution_count": 11,
   "id": "8f64e52c",
   "metadata": {},
   "outputs": [],
   "source": [
    "merged_paragraphs = {}\n",
    "i = 0\n",
    "for num, paragraphs in fixed_paragraphs.items():\n",
    "    first_word = paragraphs[0].split(' ')[0]\n",
    "    merged_paragraphs[num] = paragraphs\n",
    "    if first_word.islower() and first_word.isalpha() and page_text[num].startswith(first_word):\n",
    "        merged_paragraphs[num-1][-1] = merged_paragraphs[num-1][-1]+' '+merged_paragraphs[num][0]\n",
    "        merged_paragraphs[num].remove(merged_paragraphs[num][0])\n",
    "    i+=1"
   ]
  },
  {
   "cell_type": "code",
   "execution_count": 12,
   "id": "5f11a692",
   "metadata": {},
   "outputs": [
    {
     "data": {
      "text/plain": [
       "['Seismically Induced Systems Interactions (SISI) Program (Volume II, Exhibit D.4,\\nSection 3.',\n",
       " 'Routine station operations with respect to the SISI Program were governed by\\nprocedures AD4.ID3, Revision 16, \"SISI Housekeeping Activities,\" dated October 8,\\n2019, and AD4.ID1, Revision 17, \"Housekeeping,\" dated April 2, 2020, copies of\\nwhich were provided to and reviewed by the DCISC.  These procedures appeared\\nadequate and addressed application of the SISI Program to daily housekeeping\\nactivities within the plant such as the following',\n",
       " \"Transient equipment being brought into the plant\\nComponent parts of systems, structures, or components being brought into\\nthe plant\\nNon-design change alterations of systems, structures, or components\\nThe objective of the SISI Program was to ensure that safe-shutdown systems,\\nstructures, and components, as well as certain accident-mitigating systems, would\\nproperly function during and following an earthquake. The procedure's intent was\\nto ensure that needed components and equipment would not be impacted during\\nan earthquake by improperly positioned or restrained transient equipment or\\nalterations made to systems, structures, or components.  DCPP explained that\\nalthough the SISI Program focused on protecting plant equipment in specific\\nlocations, the program's housekeeping standards are applied throughout the plant\\nat all times.  The procedure provided lists of examples of temporary equipment\\nand components that could damage plant equipment if stored unrestrained in\\nunacceptable areas of the plant, and/or inadequately secured, were an earthquake\\nto occur.  Some examples were tools, ladders, gas bottles, workbenches, rigging\\nequipment, test equipment, temporary power load centers, and parts resulting\\nfrom operations, maintenance, modifications, or testing activities\",\n",
       " 'One method to help prevent an undesirable seismic impact on plant systems has\\ninvolved the designation of \"SISI Safe Areas,\" which were evaluated by\\nEngineering and pre-designated throughout the plant.  These areas were intended\\nfor repeated use and did not require a SISI evaluation by Engineering when the\\nneed occurred to store items temporarily in those areas.  Such areas were\\nidentified by signs located throughout the Turbine Building, Auxiliary Building, and\\nFuel Handling Building',\n",
       " 'The DCISC reviewed copies of engineering documents that provide the bases for\\nthe program including Design Control Manual T-14, Revision 6, \"Seismically\\nInduced Systems Interactions,\" dated August 20, 2019, and the \"Seismically\\nInduced Systems Interaction Manual,\" Revision 12, dated December 2017.  Those\\ndocuments as well as supporting plant drawings provided the detailed information\\nfor the identification of the SISI Safe Areas and identified potential \"Targets,\"\\nwhich were defined as systems, structures, and components that are required to\\n\"safely shutdown the plant, maintain the plant in a safe shutdown condition,\\nand/or maintain the function of accident mitigating systems.\"  Targets also included related tubing, instrumentation, electrical circuitry, and component\\nsupports that were necessary to ensure that the associated systems, structures\\nand components could perform their design functions.  Thus, the SISI Safe Areas\\nwere locations where stored equipment, tools, or components could not negatively\\naffect Targets and therefore could not have a negative on impact on nuclear safety\\nin the event of an earthquake.  Separately, the same engineering documents were\\nused during the design change process to ensure that any permanent station\\nmodifications could not impact any of the same Targets during a seismic event']"
      ]
     },
     "execution_count": 12,
     "metadata": {},
     "output_type": "execute_result"
    }
   ],
   "source": [
    "merged_paragraphs[384]"
   ]
  },
  {
   "cell_type": "code",
   "execution_count": null,
   "id": "b914a406",
   "metadata": {},
   "outputs": [],
   "source": []
  }
 ],
 "metadata": {
  "kernelspec": {
   "display_name": "Python 3 (ipykernel)",
   "language": "python",
   "name": "python3"
  },
  "language_info": {
   "codemirror_mode": {
    "name": "ipython",
    "version": 3
   },
   "file_extension": ".py",
   "mimetype": "text/x-python",
   "name": "python",
   "nbconvert_exporter": "python",
   "pygments_lexer": "ipython3",
   "version": "3.9.7"
  }
 },
 "nbformat": 4,
 "nbformat_minor": 5
}
