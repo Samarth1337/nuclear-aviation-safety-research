{
  "nbformat": 4,
  "nbformat_minor": 0,
  "metadata": {
    "colab": {
      "provenance": []
    },
    "kernelspec": {
      "name": "python3",
      "display_name": "Python 3"
    },
    "language_info": {
      "name": "python"
    }
  },
  "cells": [
    {
      "cell_type": "code",
      "execution_count": null,
      "metadata": {
        "id": "LPJy1RZYW6b4"
      },
      "outputs": [],
      "source": [
        "import numpy as np\n",
        "import pandas as pd\n",
        "import nltk\n",
        "import spacy\n",
        "import re\n",
        "import os\n",
        "import matplotlib.pyplot as plt\n",
        "import seaborn as sns\n",
        "\n",
        "pd.set_option(\"display.max_colwidth\", 200)\n",
        "\n",
        "%matplotlib inline"
      ]
    },
    {
      "cell_type": "code",
      "source": [
        "nlp = spacy.load('en_core_web_sm')"
      ],
      "metadata": {
        "id": "GpOb-WDCXBIV"
      },
      "execution_count": null,
      "outputs": []
    },
    {
      "cell_type": "code",
      "source": [
        "'''\n",
        "docs = ['The root causes were identified as follows: Root Cause for Sub-Problem 1: Inadequate procedural guidance and unclear coordination between applicable proceduers',\n",
        "            'This ultimately created an environment that promulgated a human error-likely environment.” More specifically, the RCE team determined that the environment consisted of poor communication, lack of engineering leadership, too much reliance on vendor designs, time pressure, and distractions. ',\n",
        "            'Also, equipment problems due to aging have led to an increasingly negative trend in the station’s Deficient Critical Component Backlog Orders. ',\n",
        "             'Mr. Baldwin stated the deficient performance was caused by maintenance procedural inadequacy which allowed work to proceed with the relay energized.'\n",
        "            ]\n",
        "'''"
      ],
      "metadata": {
        "id": "lIyt0z61Z46d"
      },
      "execution_count": null,
      "outputs": []
    },
    {
      "cell_type": "code",
      "source": [
        "#len(docs)"
      ],
      "metadata": {
        "colab": {
          "base_uri": "https://localhost:8080/"
        },
        "id": "t7py4S0hZ799",
        "outputId": "c430a413-f865-4222-932c-f3042ee898fb"
      },
      "execution_count": null,
      "outputs": [
        {
          "output_type": "execute_result",
          "data": {
            "text/plain": [
              "4"
            ]
          },
          "metadata": {},
          "execution_count": 17
        }
      ]
    },
    {
      "cell_type": "code",
      "source": [
        "#for sentence in sentences1:\n",
        "#    doc=nlp(sentence)"
      ],
      "metadata": {
        "id": "OBD1FuMeaF20"
      },
      "execution_count": null,
      "outputs": []
    },
    {
      "cell_type": "code",
      "source": [
        "#docs[2]"
      ],
      "metadata": {
        "colab": {
          "base_uri": "https://localhost:8080/",
          "height": 35
        },
        "id": "byqZUESqa1Cd",
        "outputId": "da1a5ec8-df84-48ad-ebc1-7c37f3f4814c"
      },
      "execution_count": null,
      "outputs": [
        {
          "output_type": "execute_result",
          "data": {
            "text/plain": [
              "'Also, equipment problems due to aging have led to an increasingly negative trend in the station’s Deficient Critical Component Backlog Orders. '"
            ],
            "application/vnd.google.colaboratory.intrinsic+json": {
              "type": "string"
            }
          },
          "metadata": {},
          "execution_count": 18
        }
      ]
    },
    {
      "cell_type": "code",
      "source": [
        "#clean_articles = [re.sub(\"[^a-zA-Z]\",\" \",x) for x in docs]"
      ],
      "metadata": {
        "id": "u-t4KCdqa2hm"
      },
      "execution_count": null,
      "outputs": []
    },
    {
      "cell_type": "code",
      "source": [
        "#docs[2]"
      ],
      "metadata": {
        "colab": {
          "base_uri": "https://localhost:8080/",
          "height": 35
        },
        "id": "KKWnDWlobPYg",
        "outputId": "4792fe86-67fa-422f-b6ee-b549c3d68521"
      },
      "execution_count": null,
      "outputs": [
        {
          "output_type": "execute_result",
          "data": {
            "text/plain": [
              "'Also, equipment problems due to aging have led to an increasingly negative trend in the station’s Deficient Critical Component Backlog Orders. '"
            ],
            "application/vnd.google.colaboratory.intrinsic+json": {
              "type": "string"
            }
          },
          "metadata": {},
          "execution_count": 20
        }
      ]
    },
    {
      "cell_type": "code",
      "source": [
        "#clean_articles[2]"
      ],
      "metadata": {
        "colab": {
          "base_uri": "https://localhost:8080/",
          "height": 35
        },
        "id": "Q5eh5uw6bUdP",
        "outputId": "eb1e3aca-e0e3-4734-e9a7-45ced85ee1fe"
      },
      "execution_count": null,
      "outputs": [
        {
          "output_type": "execute_result",
          "data": {
            "text/plain": [
              "'Also  equipment problems due to aging have led to an increasingly negative trend in the station s Deficient Critical Component Backlog Orders  '"
            ],
            "application/vnd.google.colaboratory.intrinsic+json": {
              "type": "string"
            }
          },
          "metadata": {},
          "execution_count": 21
        }
      ]
    },
    {
      "cell_type": "code",
      "source": [
        "#clean_articles = [' '.join([w for w in x.split() if len(w)>1]) for x in clean_articles]"
      ],
      "metadata": {
        "id": "3D63JPazbWat"
      },
      "execution_count": null,
      "outputs": []
    },
    {
      "cell_type": "code",
      "source": [
        "#clean_articles = [x.lower() for x in clean_articles]"
      ],
      "metadata": {
        "id": "UB6nvOr3bXTu"
      },
      "execution_count": null,
      "outputs": []
    },
    {
      "cell_type": "code",
      "source": [
        "# function to plot top 30 most frequent words\n",
        "def freq_words(x, terms = 30):\n",
        "  # combine all the articles  \n",
        "  text = ' '.join([text for text in x])\n",
        "  # split text into words   \n",
        "  all_words = text.split()\n",
        "  \n",
        "  # prepare a dictionary of word-frequency pairs\n",
        "  fdist = nltk.FreqDist(all_words)\n",
        "  words_df = pd.DataFrame({'word':list(fdist.keys()), 'count':list(fdist.values())})\n",
        "  \n",
        "  # selecting top n most frequent words\n",
        "  d = words_df.nlargest(columns=\"count\", n = terms) \n",
        "   \n",
        "  plt.figure(figsize=(20,5))\n",
        "  ax = sns.barplot(data=d, x= \"word\", y = \"count\")\n",
        "  ax.set(ylabel = 'Count')\n",
        "  plt.show()"
      ],
      "metadata": {
        "id": "c4VdMOTybnVm"
      },
      "execution_count": null,
      "outputs": []
    },
    {
      "cell_type": "code",
      "source": [
        "#freq_words(clean_articles)"
      ],
      "metadata": {
        "colab": {
          "base_uri": "https://localhost:8080/",
          "height": 334
        },
        "id": "uG7ULGFvbr7m",
        "outputId": "8f3fc541-a381-476d-d9ad-ec2429e388d7"
      },
      "execution_count": null,
      "outputs": [
        {
          "output_type": "display_data",
          "data": {
            "text/plain": [
              "<Figure size 1440x360 with 1 Axes>"
            ],
            "image/png": "[encoded data removed]"
          },
          "metadata": {
            "needs_background": "light"
          }
        }
      ]
    },
    {
      "cell_type": "code",
      "source": [
        "!pip install pdfplumber -q"
      ],
      "metadata": {
        "colab": {
          "base_uri": "https://localhost:8080/"
        },
        "id": "auoB6ajXeFOm",
        "outputId": "a2fe443f-059d-4a88-d84b-e1721fffa33f"
      },
      "execution_count": null,
      "outputs": [
        {
          "output_type": "stream",
          "name": "stdout",
          "text": [
            "\u001b[2K     \u001b[90m━━━━━━━━━━━━━━━━━━━━━━━━━━━━━━━━━━━━━━━━\u001b[0m \u001b[32m43.7/43.7 KB\u001b[0m \u001b[31m2.3 MB/s\u001b[0m eta \u001b[36m0:00:00\u001b[0m\n",
            "\u001b[2K     \u001b[90m━━━━━━━━━━━━━━━━━━━━━━━━━━━━━━━━━━━━━━━━\u001b[0m \u001b[32m5.6/5.6 MB\u001b[0m \u001b[31m34.7 MB/s\u001b[0m eta \u001b[36m0:00:00\u001b[0m\n",
            "\u001b[2K     \u001b[90m━━━━━━━━━━━━━━━━━━━━━━━━━━━━━━━━━━━━━━━━\u001b[0m \u001b[32m3.4/3.4 MB\u001b[0m \u001b[31m64.3 MB/s\u001b[0m eta \u001b[36m0:00:00\u001b[0m\n",
            "\u001b[2K     \u001b[90m━━━━━━━━━━━━━━━━━━━━━━━━━━━━━━━━━━━━━━\u001b[0m \u001b[32m143.6/143.6 KB\u001b[0m \u001b[31m10.4 MB/s\u001b[0m eta \u001b[36m0:00:00\u001b[0m\n",
            "\u001b[2K     \u001b[90m━━━━━━━━━━━━━━━━━━━━━━━━━━━━━━━━━━━━━━━━\u001b[0m \u001b[32m4.2/4.2 MB\u001b[0m \u001b[31m11.6 MB/s\u001b[0m eta \u001b[36m0:00:00\u001b[0m\n",
            "\u001b[?25h"
          ]
        }
      ]
    },
    {
      "cell_type": "code",
      "source": [
        "import pdfplumber\n",
        "\n",
        "all_sentences = []\n",
        "with pdfplumber.open(r'DCISC-24th-Annual-Report.pdf') as pdf:\n",
        "    page_numbers = len(pdf.pages)\n",
        "    for num in range(page_numbers):\n",
        "        page = pdf.pages[num]\n",
        "        page_text = page.extract_text()\n",
        "        page_text = page_text.replace('\\n',\" \")\n",
        "        page_sentences = re.split(r'(?<!\\w\\.\\w.)(?<![A-Z][a-z]\\.)(?<=\\.|\\?)\\s', page_text)\n",
        "        all_sentences.append(page_sentences)"
      ],
      "metadata": {
        "colab": {
          "base_uri": "https://localhost:8080/"
        },
        "id": "Y00bv9fyb5uF",
        "outputId": "6b8fd40c-88d7-453f-ab33-4834527cee7b"
      },
      "execution_count": null,
      "outputs": [
        {
          "output_type": "stream",
          "name": "stderr",
          "text": [
            "WARNING:pdfminer.pdftypes:Data-loss while decompressing corrupted data\n",
            "WARNING:pdfminer.pdftypes:Data-loss while decompressing corrupted data\n"
          ]
        }
      ]
    },
    {
      "cell_type": "code",
      "source": [
        "len(all_sentences)"
      ],
      "metadata": {
        "colab": {
          "base_uri": "https://localhost:8080/"
        },
        "id": "N_MrDHwFexoM",
        "outputId": "ff8c04cc-3447-4c8b-a46d-19da46caa04b"
      },
      "execution_count": null,
      "outputs": [
        {
          "output_type": "execute_result",
          "data": {
            "text/plain": [
              "931"
            ]
          },
          "metadata": {},
          "execution_count": 31
        }
      ]
    },
    {
      "cell_type": "code",
      "source": [
        "all_sentences[3]"
      ],
      "metadata": {
        "colab": {
          "base_uri": "https://localhost:8080/"
        },
        "id": "8QYNF5y5ez4R",
        "outputId": "ddeb9979-597f-4584-b7b4-14583f0042d8"
      },
      "execution_count": null,
      "outputs": [
        {
          "output_type": "execute_result",
          "data": {
            "text/plain": [
              "['The candidates must be “persons with knowledge, background and experience in the field of nuclear power facilities and nuclear safety issues.” From the list of candidates, the new or returning member is appointed by the Governor of California, the Attorney General of California or the Chairperson of the California Energy Commission (CEC), whichever made the original appointment.',\n",
              " 'The Committee Members during this period were as follows: On October 10, 2007, Robert J.',\n",
              " 'Budnitz, Ph.D., was appointed by California Attorney General Edmund G.',\n",
              " 'Brown Jr. to a term on the Committee expiring June 30, 2010.',\n",
              " 'On April 15, 2010, Attorney General Brown announced the reappointment of Dr. Budnitz to a second three-year term on the Committee commencing July 1, 2010 through June 30, 2013.',\n",
              " 'At a regular meeting on June 27, 2013, the CPUC ratified its President’s selection of Dr. Budnitz as one of two candidates for appointment by Attorney General Kamala Harris to serve a three-year term on the DCISC.',\n",
              " 'On June 3, 2009, Peter Lam Ph.D., was appointed by Chair Karen Douglas, J.D. of the California Energy Commission (CEC) to a three-year term on the Committee commencing July 1, 2009 through June 30, 2012.',\n",
              " 'On July 12, 2012, CEC Chair Robert B.',\n",
              " 'Weisenmiller, Ph.D., announced his reappointment of Dr. Lam to a second three-year term on the Committee commencing July 1, 2012 through June 30, 2015.',\n",
              " 'Dr. Lam served as DCISC Vice-Chair for this report period, July 1, 2013 – June 30, 2014.',\n",
              " 'On July 9, 2008, California Governor Arnold Schwarzenegger announced the appointment ofPer F.',\n",
              " 'Peterson, Ph.D., PE, to a three year term on the Committee through June 30, 2011.',\n",
              " 'Prof.',\n",
              " 'Peterson previously served as a Committee member from September 2, 2004, through October 9, 2007.',\n",
              " 'On March 22, 2012, Governor Edmund G.',\n",
              " 'Brown Jr. announced Professor Peterson’s reappointment for a term on the Committee commencing July 1, 2011 through June 30, 2014.',\n",
              " 'On September 10, 2014 Governor Brown announced Professor Peterson’s reappointment to a three-year term on the DCISC expiring on June 20, 2017.',\n",
              " 'Dr. Peterson served as DCISC Chair for this report period, July 1, 2013 – June 30, 2014.',\n",
              " 'Overview of Activities during the Current Period The Committee regularly performs the following activities: Three sets of 2-day public meetings each year in the vicinity of the plant Three tours of the Diablo Canyon Nuclear Power Plant each year with members of the public held in conjunction with the three public meetings Numerous fact-finding visits by individual Committee Members and Consultants to assess issues, review plant programs and activities, and interview PG&E personnel Reviews of technical documents received from PG&E, the Nuclear Regulatory Commission, various state and local agencies, and other interested parties.',\n",
              " 'Visits by the DCISC Members and legal counsel to offices of the CPUC and appointing officials (the Governor of California, California Attorney General and California Energy Commission) to update them on DCISC activities']"
            ]
          },
          "metadata": {},
          "execution_count": 32
        }
      ]
    },
    {
      "cell_type": "code",
      "source": [
        "#clean_articles = [re.sub(\"[^a-zA-Z]\",\" \",x) for x in all_sentences]\n",
        "docu=[]\n",
        "for page in all_sentences:\n",
        "  docu.append(page)"
      ],
      "metadata": {
        "id": "PCL38Qygfi2t"
      },
      "execution_count": null,
      "outputs": []
    },
    {
      "cell_type": "code",
      "source": [
        "len(docu)"
      ],
      "metadata": {
        "colab": {
          "base_uri": "https://localhost:8080/"
        },
        "id": "gbz2KhEegp02",
        "outputId": "e038c01e-c61c-48fc-95c5-5572d304f99e"
      },
      "execution_count": null,
      "outputs": [
        {
          "output_type": "execute_result",
          "data": {
            "text/plain": [
              "931"
            ]
          },
          "metadata": {},
          "execution_count": 119
        }
      ]
    },
    {
      "cell_type": "code",
      "source": [
        "docu[2]"
      ],
      "metadata": {
        "colab": {
          "base_uri": "https://localhost:8080/"
        },
        "id": "-RGJJkKcgq-Z",
        "outputId": "c2061775-4d25-4053-add9-3db32eead609"
      },
      "execution_count": null,
      "outputs": [
        {
          "output_type": "execute_result",
          "data": {
            "text/plain": [
              "['24th Annual Report by the Diablo Canyon Independent Safety Committee, July 1, 2013 - June 30, 2014 Preface | Executive Summary Volume 1 TOC | Volume 2 TOC | PG&E Response | Contact the DCISC 24th Annual Report, Executive Summary, Conclusions and Recommendations History and Introduction The Diablo Canyon Independent Safety Committee (DCISC) was established as part of the June 24, 1988 settlement agreement which arose from the rate proceedings for the Diablo Canyon Nuclear Power Plant (DCPP).',\n",
              " 'The DCISC was formed in late 1989 with the appointments of Committee Members and began formal review activities and meetings on January 1, 1990.',\n",
              " 'The original settlement agreement (D.88-12-083) was terminated by the California Public Utilities Commission (CPUC) in its decision to open the state electricity markets to competition on January 1, 1998; however, under the provisions of the Commission’s Decisions 97-05-088, issued on May 21, 1997, and 04-05-055, issued on May 27, 2004, the DCISC will continue to function and fulfill its responsibilities as established under the terms of the 1988 settlement agreement.',\n",
              " 'On May 27, 2004, the CPUC issued Decision 04-05-055.',\n",
              " 'In its decision, the CPUC changed the nomination procedures by eliminating from the process the participation of PG&E and the Dean of Engineering at the University of California at Berkeley; modified the requirements for membership on the DCISC to add “knowledge and background in nuclear safety issues” to the “experience in the field of nuclear power facilities” and modified the DCISC’s mandate to require it to undertake public outreach in the community.',\n",
              " 'The Decision concluded the DCISC should retain the discretion to determine how best to accomplish its mandate and that the DCISC shall otherwise continue to exist and to operate and continued funding through cost-of-service rates.',\n",
              " 'To implement this directive the DCISC has continued to expand its public outreach as described in Section 8.0 Public Input and Outreach and continues to consider additional outreach activities.',\n",
              " 'On January 25, 2007, the CPUC issued Decision 07-01-028.',\n",
              " 'The CPUC had previously adopted new practices and expectations for the DCISC without concurrently restating the Committee’s charter to reflect the changes.',\n",
              " 'In its decision, the CPUC granted the DCISC application for authority to restate its charter including the incorporation into the Restated Charter of several terms, conditions, changes and clarifications necessitated by, and previously authorized by, the CPUC which govern the composition, responsibilities and operations of the Committee.',\n",
              " 'In its decision, the CPUC found the Restated Charter to be in the public’s interest as it reflects the latest authority and obligations of the DCISC.',\n",
              " 'The Committee’s application was unopposed.',\n",
              " 'The original settlement agreement provided for a three-member Independent Safety Committee for the purpose of “reviewing and assessing the safety of operations of DCPP”.',\n",
              " 'The members serve three-year staggered terms and remain on the DCISC until a new appointment or their reappointment is made.',\n",
              " 'To fill an expired term or a vacancy the CPUC issues a public notice soliciting interested persons.',\n",
              " 'Under the revised process in accordance with the restated charter, candidates are selected by the CPUC from the applications plus the incumbent, if willing to serve.']"
            ]
          },
          "metadata": {},
          "execution_count": 120
        }
      ]
    },
    {
      "cell_type": "code",
      "source": [
        "clean_articles=[]\n",
        "for i in range(len(docu)):\n",
        "  clean_articles.append([re.sub(\"[^a-zA-Z]\",\" \",x) for x in docu[i]])\n",
        "for i in range(len(docu)):\n",
        "  clean_articles.append([' '.join([w for w in x.split() if len(w)>1]) for x in clean_articles[i]])\n",
        "for i in range(len(docu)):\n",
        "  clean_articles.append([x.lower() for x in clean_articles[i]])"
      ],
      "metadata": {
        "id": "L0Rnfo5Hgr-W"
      },
      "execution_count": null,
      "outputs": []
    },
    {
      "cell_type": "code",
      "source": [
        "len(clean_articles)"
      ],
      "metadata": {
        "colab": {
          "base_uri": "https://localhost:8080/"
        },
        "id": "ufimm8TxgwnI",
        "outputId": "c76235e4-0880-4762-d062-8ad17afaf647"
      },
      "execution_count": null,
      "outputs": [
        {
          "output_type": "execute_result",
          "data": {
            "text/plain": [
              "2793"
            ]
          },
          "metadata": {},
          "execution_count": 154
        }
      ]
    },
    {
      "cell_type": "code",
      "source": [
        "clean_articles[9]"
      ],
      "metadata": {
        "colab": {
          "base_uri": "https://localhost:8080/"
        },
        "id": "QEYDtUAKw2CZ",
        "outputId": "aa19be01-c1de-4835-c333-b5fa5cee4c70"
      },
      "execution_count": null,
      "outputs": [
        {
          "output_type": "execute_result",
          "data": {
            "text/plain": [
              "['problems and failures increased the frequency of Critical Event Clock Resets in the second half of      ',\n",
              " 'Also  equipment problems due to aging have led to an increasingly negative trend in the station s Deficient Critical Component Backlog Orders ',\n",
              " 'DCPP s performance on reducing or eliminating Safety System Functional Failures has not improved despite implementation of a corrective action plan ',\n",
              " 'DCPP s Root Cause Evaluation of Unit   s trip from     percent power following a failure on the    kV Main Bank Transformer B phase lightning arrester is extensive and appears to be reasonable ',\n",
              " '            ',\n",
              " 'DCPP s operational performance  measured by various statistical parameters  during       and into       is representative of the continuation of a generally improving trend since at least      ',\n",
              " 'This trend is especially reflected in improvements in outage management and collective radiation exposure and in avoiding NRC Substantive Cross cutting Issues ',\n",
              " 'Areas that DCISC should consider for future review during      include Equipment Reliability  Human Performance  and implementation of the Corrective Action Program ',\n",
              " '            ',\n",
              " 'DCPP has dealt effectively with most equipment and system problems and is focused on improving system health ',\n",
              " 'Systems that are the sources of emergency electrical power to the station s vital electrical equipment  the station s Emergency Diesel Generators and the     kV system that is supplied from the offsite electrical grid  were found to be operational but have been a focus of station and NRC attention ',\n",
              " 'DCPP s Plant Health Committee has been improved to focus more on system component health and meets more frequently  and overall system health has improved ',\n",
              " 'The System Engineer Component Program continues to be effective ',\n",
              " '            ',\n",
              " 'Results of chemical analyses of feedwater and steam generator samples indicate no negative potential impacts on steam generator performance             ',\n",
              " 'The DCPP Readiness for Restart  from outage  Program appeared appropriate ',\n",
              " 'The implementation of the program for Outage  R   was effectively carried out ',\n",
              " 'DCPP s concrete repair procedure and repairs of concrete in the Intake Structure appeared satisfactory ',\n",
              " 'The DCPP Outage  R   Outage Safety Plan is a comprehensive and detailed document describing the schedule and steps in the outage  which are identified as high risks of core boiling or damage as a result of losing electric power and or cooling to the reactor core and Spent Fuel Pool  and the backup systems that are available ',\n",
              " 'The emphasis is on prevention of incidents  mitigation of accidents and control of radioactive material ',\n",
              " 'With one exception the Outage Safety Plan appears to be well designed to achieve outage safety ',\n",
              " 'The exception is that the new DCPP requirement that the Containment Equipment Hatch be closed and secured during fuel movement is not specifically addressed ',\n",
              " 'The DCISC believes it should be specifically addressed in the Outage Safety Plan ',\n",
              " 'DCPP s Outage  R   results were positive with the one exception of loss of a Spent Fuel Pool Cooling Pump due to an electric grid disturbance ',\n",
              " 'Operators restarted the pump  and there were no safety consequences of the event ',\n",
              " '            ',\n",
              " 'Although the DCISC did not review the DCPP safety security interface during the current period  it has found that the DCPP safety security interface to have be appropriately designed and implemented in prior periods ',\n",
              " '            ',\n",
              " 'The DCISC believes that DCPP is prudent in its planned campaign during the coming two years to move its spent fuel from the Spent Fuel Pools to its Independent Spent Fuel Storage']"
            ]
          },
          "metadata": {},
          "execution_count": 155
        }
      ]
    },
    {
      "cell_type": "code",
      "source": [
        "#for i in range(len(clean_articles)):\n",
        "#  clean_articles.append([' '.join([w for w in x.split() if len(w)>1]) for x in clean_articles[i]])\n",
        "#  clean_articles.append([x.lower() for x in clean_articles[i]])\n"
      ],
      "metadata": {
        "id": "SmH95bTqicZm"
      },
      "execution_count": null,
      "outputs": []
    },
    {
      "cell_type": "code",
      "source": [
        "freq_words(clean_articles[9])"
      ],
      "metadata": {
        "colab": {
          "base_uri": "https://localhost:8080/",
          "height": 334
        },
        "id": "GMpBiVbkil_0",
        "outputId": "296e7f35-7d07-4699-f28a-3f8e701e4ee9"
      },
      "execution_count": null,
      "outputs": [
        {
          "output_type": "display_data",
          "data": {
            "text/plain": [
              "<Figure size 1440x360 with 1 Axes>"
            ],
            "image/png": "[encoded data removed]"
          },
          "metadata": {
            "needs_background": "light"
          }
        }
      ]
    },
    {
      "cell_type": "code",
      "source": [
        "#flatten the list\n",
        "#clean_articles = [item for sublist in clean_articles for item in sublist]\n"
      ],
      "metadata": {
        "id": "X7IcSaqJlKsO"
      },
      "execution_count": null,
      "outputs": []
    },
    {
      "cell_type": "code",
      "source": [
        "#freq_words(clean_articles)"
      ],
      "metadata": {
        "colab": {
          "base_uri": "https://localhost:8080/",
          "height": 334
        },
        "id": "44w2FcE5mIMG",
        "outputId": "45eb986f-8ff1-49fd-b0e0-da3d5d2403ed"
      },
      "execution_count": null,
      "outputs": [
        {
          "output_type": "display_data",
          "data": {
            "text/plain": [
              "<Figure size 1440x360 with 1 Axes>"
            ],
            "image/png": "[encoded data removed]"
          },
          "metadata": {
            "needs_background": "light"
          }
        }
      ]
    },
    {
      "cell_type": "code",
      "source": [
        "df=clean_articles.copy()"
      ],
      "metadata": {
        "id": "3V4GfyXYxE2T"
      },
      "execution_count": null,
      "outputs": []
    },
    {
      "cell_type": "code",
      "source": [
        "df[9]"
      ],
      "metadata": {
        "colab": {
          "base_uri": "https://localhost:8080/"
        },
        "id": "1ovDOFWdxI7H",
        "outputId": "d6f8991a-0584-483c-a3f2-2f0cbaa4b882"
      },
      "execution_count": null,
      "outputs": [
        {
          "output_type": "execute_result",
          "data": {
            "text/plain": [
              "['problems and failures increased the frequency of Critical Event Clock Resets in the second half of      ',\n",
              " 'Also  equipment problems due to aging have led to an increasingly negative trend in the station s Deficient Critical Component Backlog Orders ',\n",
              " 'DCPP s performance on reducing or eliminating Safety System Functional Failures has not improved despite implementation of a corrective action plan ',\n",
              " 'DCPP s Root Cause Evaluation of Unit   s trip from     percent power following a failure on the    kV Main Bank Transformer B phase lightning arrester is extensive and appears to be reasonable ',\n",
              " '            ',\n",
              " 'DCPP s operational performance  measured by various statistical parameters  during       and into       is representative of the continuation of a generally improving trend since at least      ',\n",
              " 'This trend is especially reflected in improvements in outage management and collective radiation exposure and in avoiding NRC Substantive Cross cutting Issues ',\n",
              " 'Areas that DCISC should consider for future review during      include Equipment Reliability  Human Performance  and implementation of the Corrective Action Program ',\n",
              " '            ',\n",
              " 'DCPP has dealt effectively with most equipment and system problems and is focused on improving system health ',\n",
              " 'Systems that are the sources of emergency electrical power to the station s vital electrical equipment  the station s Emergency Diesel Generators and the     kV system that is supplied from the offsite electrical grid  were found to be operational but have been a focus of station and NRC attention ',\n",
              " 'DCPP s Plant Health Committee has been improved to focus more on system component health and meets more frequently  and overall system health has improved ',\n",
              " 'The System Engineer Component Program continues to be effective ',\n",
              " '            ',\n",
              " 'Results of chemical analyses of feedwater and steam generator samples indicate no negative potential impacts on steam generator performance             ',\n",
              " 'The DCPP Readiness for Restart  from outage  Program appeared appropriate ',\n",
              " 'The implementation of the program for Outage  R   was effectively carried out ',\n",
              " 'DCPP s concrete repair procedure and repairs of concrete in the Intake Structure appeared satisfactory ',\n",
              " 'The DCPP Outage  R   Outage Safety Plan is a comprehensive and detailed document describing the schedule and steps in the outage  which are identified as high risks of core boiling or damage as a result of losing electric power and or cooling to the reactor core and Spent Fuel Pool  and the backup systems that are available ',\n",
              " 'The emphasis is on prevention of incidents  mitigation of accidents and control of radioactive material ',\n",
              " 'With one exception the Outage Safety Plan appears to be well designed to achieve outage safety ',\n",
              " 'The exception is that the new DCPP requirement that the Containment Equipment Hatch be closed and secured during fuel movement is not specifically addressed ',\n",
              " 'The DCISC believes it should be specifically addressed in the Outage Safety Plan ',\n",
              " 'DCPP s Outage  R   results were positive with the one exception of loss of a Spent Fuel Pool Cooling Pump due to an electric grid disturbance ',\n",
              " 'Operators restarted the pump  and there were no safety consequences of the event ',\n",
              " '            ',\n",
              " 'Although the DCISC did not review the DCPP safety security interface during the current period  it has found that the DCPP safety security interface to have be appropriately designed and implemented in prior periods ',\n",
              " '            ',\n",
              " 'The DCISC believes that DCPP is prudent in its planned campaign during the coming two years to move its spent fuel from the Spent Fuel Pools to its Independent Spent Fuel Storage']"
            ]
          },
          "metadata": {},
          "execution_count": 162
        }
      ]
    },
    {
      "cell_type": "code",
      "source": [
        "'''\n",
        "for i in range(len(df)):\n",
        "\n",
        "  # lemmatization\n",
        "  df.append([' '.join([token.lemma_ for token in nlp(x)]) for x in df[i]])\n",
        "\n",
        "for i in range(len(df)):\n",
        "  # remove stopwords\n",
        "  df.append([' '.join([w for w in x.split() if nlp.vocab[w].is_stop==False]) for x in df[i]])\n",
        "\n",
        "for i in range(len(df)):\n",
        "  # remove -PRON- tags\n",
        "  df.append([re.sub('-PRON-',  '', i) for i in df[i]])\n",
        "'''"
      ],
      "metadata": {
        "id": "OH05enSamLF8"
      },
      "execution_count": null,
      "outputs": []
    },
    {
      "cell_type": "code",
      "source": [
        "df[9]"
      ],
      "metadata": {
        "colab": {
          "base_uri": "https://localhost:8080/"
        },
        "id": "0F08Hmtfwp8Z",
        "outputId": "618ff4c9-00a4-4e04-a56b-e5429692e5ba"
      },
      "execution_count": null,
      "outputs": [
        {
          "output_type": "execute_result",
          "data": {
            "text/plain": [
              "['problems and failures increased the frequency of Critical Event Clock Resets in the second half of      ',\n",
              " 'Also  equipment problems due to aging have led to an increasingly negative trend in the station s Deficient Critical Component Backlog Orders ',\n",
              " 'DCPP s performance on reducing or eliminating Safety System Functional Failures has not improved despite implementation of a corrective action plan ',\n",
              " 'DCPP s Root Cause Evaluation of Unit   s trip from     percent power following a failure on the    kV Main Bank Transformer B phase lightning arrester is extensive and appears to be reasonable ',\n",
              " '            ',\n",
              " 'DCPP s operational performance  measured by various statistical parameters  during       and into       is representative of the continuation of a generally improving trend since at least      ',\n",
              " 'This trend is especially reflected in improvements in outage management and collective radiation exposure and in avoiding NRC Substantive Cross cutting Issues ',\n",
              " 'Areas that DCISC should consider for future review during      include Equipment Reliability  Human Performance  and implementation of the Corrective Action Program ',\n",
              " '            ',\n",
              " 'DCPP has dealt effectively with most equipment and system problems and is focused on improving system health ',\n",
              " 'Systems that are the sources of emergency electrical power to the station s vital electrical equipment  the station s Emergency Diesel Generators and the     kV system that is supplied from the offsite electrical grid  were found to be operational but have been a focus of station and NRC attention ',\n",
              " 'DCPP s Plant Health Committee has been improved to focus more on system component health and meets more frequently  and overall system health has improved ',\n",
              " 'The System Engineer Component Program continues to be effective ',\n",
              " '            ',\n",
              " 'Results of chemical analyses of feedwater and steam generator samples indicate no negative potential impacts on steam generator performance             ',\n",
              " 'The DCPP Readiness for Restart  from outage  Program appeared appropriate ',\n",
              " 'The implementation of the program for Outage  R   was effectively carried out ',\n",
              " 'DCPP s concrete repair procedure and repairs of concrete in the Intake Structure appeared satisfactory ',\n",
              " 'The DCPP Outage  R   Outage Safety Plan is a comprehensive and detailed document describing the schedule and steps in the outage  which are identified as high risks of core boiling or damage as a result of losing electric power and or cooling to the reactor core and Spent Fuel Pool  and the backup systems that are available ',\n",
              " 'The emphasis is on prevention of incidents  mitigation of accidents and control of radioactive material ',\n",
              " 'With one exception the Outage Safety Plan appears to be well designed to achieve outage safety ',\n",
              " 'The exception is that the new DCPP requirement that the Containment Equipment Hatch be closed and secured during fuel movement is not specifically addressed ',\n",
              " 'The DCISC believes it should be specifically addressed in the Outage Safety Plan ',\n",
              " 'DCPP s Outage  R   results were positive with the one exception of loss of a Spent Fuel Pool Cooling Pump due to an electric grid disturbance ',\n",
              " 'Operators restarted the pump  and there were no safety consequences of the event ',\n",
              " '            ',\n",
              " 'Although the DCISC did not review the DCPP safety security interface during the current period  it has found that the DCPP safety security interface to have be appropriately designed and implemented in prior periods ',\n",
              " '            ',\n",
              " 'The DCISC believes that DCPP is prudent in its planned campaign during the coming two years to move its spent fuel from the Spent Fuel Pools to its Independent Spent Fuel Storage']"
            ]
          },
          "metadata": {},
          "execution_count": 160
        }
      ]
    },
    {
      "cell_type": "code",
      "source": [
        "'''\n",
        "# remove single character terms\n",
        "for i in range(len(df)):\n",
        "  df.append([' '.join([w for w in x.split() if len(w)>1]) for x in df[i]])\n",
        "'''"
      ],
      "metadata": {
        "id": "Q4OrY9vDyqbv"
      },
      "execution_count": null,
      "outputs": []
    },
    {
      "cell_type": "code",
      "source": [
        "#freq_words(df[9])"
      ],
      "metadata": {
        "colab": {
          "base_uri": "https://localhost:8080/",
          "height": 334
        },
        "id": "5wbf1fF3oV-w",
        "outputId": "4fb773f2-7b42-4e7d-89d7-384eb7a193cf"
      },
      "execution_count": null,
      "outputs": [
        {
          "output_type": "display_data",
          "data": {
            "text/plain": [
              "<Figure size 1440x360 with 1 Axes>"
            ],
            "image/png": "[encoded data removed]"
          },
          "metadata": {
            "needs_background": "light"
          }
        }
      ]
    },
    {
      "cell_type": "code",
      "source": [
        "#50 words and not 30\n",
        "#freq_words(df[10])"
      ],
      "metadata": {
        "colab": {
          "base_uri": "https://localhost:8080/",
          "height": 336
        },
        "id": "7KfIs0YnoZBm",
        "outputId": "d655021b-f7ef-4980-e9d8-1395d1c60024"
      },
      "execution_count": null,
      "outputs": [
        {
          "output_type": "display_data",
          "data": {
            "text/plain": [
              "<Figure size 1440x360 with 1 Axes>"
            ],
            "image/png": "[encoded data removed]"
          },
          "metadata": {
            "needs_background": "light"
          }
        }
      ]
    },
    {
      "cell_type": "code",
      "source": [
        "import re\n",
        "import spacy\n",
        "\n",
        "# load the spacy model and stopwords\n",
        "nlp = spacy.load('en_core_web_sm')\n",
        "stop_words = nlp.Defaults.stop_words\n",
        "\n",
        "# assume that 'df' is a list of lists containing strings\n",
        "for i in range(len(df)):\n",
        "    # join the list into a single string\n",
        "    text = ' '.join(df[i])\n",
        "    \n",
        "    # remove single character terms\n",
        "    terms_list = [word for word in text.split() if len(word) > 1]\n",
        "    \n",
        "    # lemmatization\n",
        "    lemma_list = [token.lemma_ for token in nlp(' '.join(terms_list))]\n",
        "    \n",
        "    # remove stopwords and -PRON- tags\n",
        "    clean_list = [re.sub('-PRON-', '', word) for word in lemma_list if word not in stop_words]\n",
        "    \n",
        "    # join the cleaned tokens back into a string\n",
        "    clean_text = ' '.join(clean_list)\n",
        "    \n",
        "    # assign the cleaned text back to 'df'\n",
        "    df[i] = clean_text\n"
      ],
      "metadata": {
        "id": "VP6uOzpJARzq"
      },
      "execution_count": null,
      "outputs": []
    },
    {
      "cell_type": "code",
      "source": [
        "def get_words(x):\n",
        "  # combine all the articles  \n",
        "  text = ' '.join([text for text in x])\n",
        "  # split text into words   \n",
        "  return set(text.split())\n",
        "unique_words=[]\n",
        "# unique words in the articles\n",
        "for i in range(len(df)):\n",
        "  unique_words.append(get_words(df[i]))\n",
        "\n",
        "len(unique_words)"
      ],
      "metadata": {
        "colab": {
          "base_uri": "https://localhost:8080/"
        },
        "id": "8f76Tyueojh8",
        "outputId": "f40850b3-6f1e-4618-e835-8275395acc97"
      },
      "execution_count": null,
      "outputs": [
        {
          "output_type": "execute_result",
          "data": {
            "text/plain": [
              "2793"
            ]
          },
          "metadata": {},
          "execution_count": 167
        }
      ]
    },
    {
      "cell_type": "code",
      "source": [
        "df[9]"
      ],
      "metadata": {
        "colab": {
          "base_uri": "https://localhost:8080/",
          "height": 303
        },
        "id": "ykmXWbVyEnmk",
        "outputId": "0994d5cd-cec0-41d8-e69b-4ee5210f7a81"
      },
      "execution_count": null,
      "outputs": [
        {
          "output_type": "execute_result",
          "data": {
            "text/plain": [
              "'problem failure increase frequency critical Event Clock Resets second half equipment problem aging lead increasingly negative trend station Deficient Critical Component Backlog Orders dcpp performance reduce eliminate Safety System Functional Failures improve despite implementation corrective action plan DCPP Root Cause Evaluation Unit trip percent power follow failure kV Main Bank Transformer phase lightning arrester extensive appear reasonable dcpp operational performance measure statistical parameter representative continuation generally improve trend trend especially reflect improvement outage management collective radiation exposure avoid NRC Substantive Cross cut issue area DCISC consider future review include Equipment Reliability Human performance implementation Corrective Action Program DCPP deal effectively equipment system problem focus improve system health Systems source emergency electrical power station vital electrical equipment station Emergency Diesel Generators kv system supply offsite electrical grid find operational focus station NRC attention dcpp Plant Health Committee improve focus system component health meet frequently overall system health improve System Engineer Component Program continue effective result chemical analysis feedwater steam generator sample indicate negative potential impact steam generator performance DCPP Readiness Restart outage Program appear appropriate implementation program Outage effectively carry DCPP concrete repair procedure repair concrete Intake Structure appear satisfactory DCPP Outage Outage Safety Plan comprehensive detailed document describe schedule step outage identify high risk core boiling damage result lose electric power cool reactor core Spent Fuel Pool backup system available emphasis prevention incident mitigation accident control radioactive material exception Outage Safety Plan appear design achieve outage safety exception new dcpp requirement Containment Equipment Hatch close secure fuel movement specifically address DCISC believe specifically address Outage Safety Plan DCPP Outage result positive exception loss Spent Fuel Pool cool Pump electric grid disturbance operator restart pump safety consequence event DCISC review DCPP safety security interface current period find DCPP safety security interface appropriately design implement prior period DCISC believe DCPP prudent plan campaign come year spend fuel Spent Fuel Pools Independent Spent Fuel Storage'"
            ],
            "application/vnd.google.colaboratory.intrinsic+json": {
              "type": "string"
            }
          },
          "metadata": {},
          "execution_count": 170
        }
      ]
    },
    {
      "cell_type": "markdown",
      "source": [
        "# The code below needs to improved/adjusted. The code above has been optimized."
      ],
      "metadata": {
        "id": "WgniaMhhGQBb"
      }
    },
    {
      "cell_type": "code",
      "source": [
        "from sklearn.feature_extraction.text import TfidfVectorizer\n",
        "\n",
        "vectorizer = TfidfVectorizer()\n",
        "    \n",
        "X = vectorizer.fit_transform(df)\n",
        "\n",
        "X.shape"
      ],
      "metadata": {
        "colab": {
          "base_uri": "https://localhost:8080/"
        },
        "id": "VxUdgRHsoqo4",
        "outputId": "64b89d44-d98d-49cb-9076-a6c3bf744bff"
      },
      "execution_count": null,
      "outputs": [
        {
          "output_type": "execute_result",
          "data": {
            "text/plain": [
              "(2793, 6527)"
            ]
          },
          "metadata": {},
          "execution_count": 169
        }
      ]
    },
    {
      "cell_type": "code",
      "source": [
        "import pandas as pd\n",
        "\n",
        "# Assume X is a regular matrix and vectorizer is a CountVectorizer object\n",
        "X = vectorizer.fit_transform(df)\n",
        "feature_names = vectorizer.get_feature_names()\n",
        "\n",
        "X_df = pd.DataFrame(X.toarray(), columns=feature_names)"
      ],
      "metadata": {
        "colab": {
          "base_uri": "https://localhost:8080/"
        },
        "id": "T8O5xpT5raiJ",
        "outputId": "07a71095-8b75-43c9-a1d5-89096b5dd521"
      },
      "execution_count": null,
      "outputs": [
        {
          "output_type": "stream",
          "name": "stderr",
          "text": [
            "/usr/local/lib/python3.8/dist-packages/sklearn/utils/deprecation.py:87: FutureWarning: Function get_feature_names is deprecated; get_feature_names is deprecated in 1.0 and will be removed in 1.2. Please use get_feature_names_out instead.\n",
            "  warnings.warn(msg, category=FutureWarning)\n"
          ]
        }
      ]
    },
    {
      "cell_type": "code",
      "source": [
        "X_df.iloc[:10,1000:1020]"
      ],
      "metadata": {
        "colab": {
          "base_uri": "https://localhost:8080/",
          "height": 322
        },
        "id": "1EAyuU6_t4vw",
        "outputId": "66999763-d0c7-49ec-9128-ef19d4b1da32"
      },
      "execution_count": null,
      "outputs": [
        {
          "output_type": "execute_result",
          "data": {
            "text/plain": [
              "   collusion  color  column       com  comanche  combination  combine  \\\n",
              "0        0.0    0.0     0.0  0.000000       0.0          0.0      0.0   \n",
              "1        0.0    0.0     0.0  0.000000       0.0          0.0      0.0   \n",
              "2        0.0    0.0     0.0  0.000000       0.0          0.0      0.0   \n",
              "3        0.0    0.0     0.0  0.000000       0.0          0.0      0.0   \n",
              "4        0.0    0.0     0.0  0.000000       0.0          0.0      0.0   \n",
              "5        0.0    0.0     0.0  0.000000       0.0          0.0      0.0   \n",
              "6        0.0    0.0     0.0  0.000000       0.0          0.0      0.0   \n",
              "7        0.0    0.0     0.0  0.000000       0.0          0.0      0.0   \n",
              "8        0.0    0.0     0.0  0.072058       0.0          0.0      0.0   \n",
              "9        0.0    0.0     0.0  0.000000       0.0          0.0      0.0   \n",
              "\n",
              "   combined  combustible  combustion      come  comfort  comfortable  comm  \\\n",
              "0       0.0          0.0         0.0  0.000000      0.0          0.0   0.0   \n",
              "1       0.0          0.0         0.0  0.000000      0.0          0.0   0.0   \n",
              "2       0.0          0.0         0.0  0.000000      0.0          0.0   0.0   \n",
              "3       0.0          0.0         0.0  0.000000      0.0          0.0   0.0   \n",
              "4       0.0          0.0         0.0  0.000000      0.0          0.0   0.0   \n",
              "5       0.0          0.0         0.0  0.000000      0.0          0.0   0.0   \n",
              "6       0.0          0.0         0.0  0.000000      0.0          0.0   0.0   \n",
              "7       0.0          0.0         0.0  0.000000      0.0          0.0   0.0   \n",
              "8       0.0          0.0         0.0  0.000000      0.0          0.0   0.0   \n",
              "9       0.0          0.0         0.0  0.050946      0.0          0.0   0.0   \n",
              "\n",
              "   command  commence  commencement  commend  commendable  commendably  \n",
              "0      0.0  0.000000           0.0      0.0     0.000000          0.0  \n",
              "1      0.0  0.000000           0.0      0.0     0.000000          0.0  \n",
              "2      0.0  0.000000           0.0      0.0     0.000000          0.0  \n",
              "3      0.0  0.175459           0.0      0.0     0.000000          0.0  \n",
              "4      0.0  0.000000           0.0      0.0     0.000000          0.0  \n",
              "5      0.0  0.000000           0.0      0.0     0.000000          0.0  \n",
              "6      0.0  0.000000           0.0      0.0     0.073285          0.0  \n",
              "7      0.0  0.000000           0.0      0.0     0.000000          0.0  \n",
              "8      0.0  0.000000           0.0      0.0     0.000000          0.0  \n",
              "9      0.0  0.000000           0.0      0.0     0.000000          0.0  "
            ],
            "text/html": [
              "\n",
              "  <div id=\"df-9cf19162-b296-4f2f-8753-a327cbe995a3\">\n",
              "    <div class=\"colab-df-container\">\n",
              "      <div>\n",
              "<style scoped>\n",
              "    .dataframe tbody tr th:only-of-type {\n",
              "        vertical-align: middle;\n",
              "    }\n",
              "\n",
              "    .dataframe tbody tr th {\n",
              "        vertical-align: top;\n",
              "    }\n",
              "\n",
              "    .dataframe thead th {\n",
              "        text-align: right;\n",
              "    }\n",
              "</style>\n",
              "<table border=\"1\" class=\"dataframe\">\n",
              "  <thead>\n",
              "    <tr style=\"text-align: right;\">\n",
              "      <th></th>\n",
              "      <th>collusion</th>\n",
              "      <th>color</th>\n",
              "      <th>column</th>\n",
              "      <th>com</th>\n",
              "      <th>comanche</th>\n",
              "      <th>combination</th>\n",
              "      <th>combine</th>\n",
              "      <th>combined</th>\n",
              "      <th>combustible</th>\n",
              "      <th>combustion</th>\n",
              "      <th>come</th>\n",
              "      <th>comfort</th>\n",
              "      <th>comfortable</th>\n",
              "      <th>comm</th>\n",
              "      <th>command</th>\n",
              "      <th>commence</th>\n",
              "      <th>commencement</th>\n",
              "      <th>commend</th>\n",
              "      <th>commendable</th>\n",
              "      <th>commendably</th>\n",
              "    </tr>\n",
              "  </thead>\n",
              "  <tbody>\n",
              "    <tr>\n",
              "      <th>0</th>\n",
              "      <td>0.0</td>\n",
              "      <td>0.0</td>\n",
              "      <td>0.0</td>\n",
              "      <td>0.000000</td>\n",
              "      <td>0.0</td>\n",
              "      <td>0.0</td>\n",
              "      <td>0.0</td>\n",
              "      <td>0.0</td>\n",
              "      <td>0.0</td>\n",
              "      <td>0.0</td>\n",
              "      <td>0.000000</td>\n",
              "      <td>0.0</td>\n",
              "      <td>0.0</td>\n",
              "      <td>0.0</td>\n",
              "      <td>0.0</td>\n",
              "      <td>0.000000</td>\n",
              "      <td>0.0</td>\n",
              "      <td>0.0</td>\n",
              "      <td>0.000000</td>\n",
              "      <td>0.0</td>\n",
              "    </tr>\n",
              "    <tr>\n",
              "      <th>1</th>\n",
              "      <td>0.0</td>\n",
              "      <td>0.0</td>\n",
              "      <td>0.0</td>\n",
              "      <td>0.000000</td>\n",
              "      <td>0.0</td>\n",
              "      <td>0.0</td>\n",
              "      <td>0.0</td>\n",
              "      <td>0.0</td>\n",
              "      <td>0.0</td>\n",
              "      <td>0.0</td>\n",
              "      <td>0.000000</td>\n",
              "      <td>0.0</td>\n",
              "      <td>0.0</td>\n",
              "      <td>0.0</td>\n",
              "      <td>0.0</td>\n",
              "      <td>0.000000</td>\n",
              "      <td>0.0</td>\n",
              "      <td>0.0</td>\n",
              "      <td>0.000000</td>\n",
              "      <td>0.0</td>\n",
              "    </tr>\n",
              "    <tr>\n",
              "      <th>2</th>\n",
              "      <td>0.0</td>\n",
              "      <td>0.0</td>\n",
              "      <td>0.0</td>\n",
              "      <td>0.000000</td>\n",
              "      <td>0.0</td>\n",
              "      <td>0.0</td>\n",
              "      <td>0.0</td>\n",
              "      <td>0.0</td>\n",
              "      <td>0.0</td>\n",
              "      <td>0.0</td>\n",
              "      <td>0.000000</td>\n",
              "      <td>0.0</td>\n",
              "      <td>0.0</td>\n",
              "      <td>0.0</td>\n",
              "      <td>0.0</td>\n",
              "      <td>0.000000</td>\n",
              "      <td>0.0</td>\n",
              "      <td>0.0</td>\n",
              "      <td>0.000000</td>\n",
              "      <td>0.0</td>\n",
              "    </tr>\n",
              "    <tr>\n",
              "      <th>3</th>\n",
              "      <td>0.0</td>\n",
              "      <td>0.0</td>\n",
              "      <td>0.0</td>\n",
              "      <td>0.000000</td>\n",
              "      <td>0.0</td>\n",
              "      <td>0.0</td>\n",
              "      <td>0.0</td>\n",
              "      <td>0.0</td>\n",
              "      <td>0.0</td>\n",
              "      <td>0.0</td>\n",
              "      <td>0.000000</td>\n",
              "      <td>0.0</td>\n",
              "      <td>0.0</td>\n",
              "      <td>0.0</td>\n",
              "      <td>0.0</td>\n",
              "      <td>0.175459</td>\n",
              "      <td>0.0</td>\n",
              "      <td>0.0</td>\n",
              "      <td>0.000000</td>\n",
              "      <td>0.0</td>\n",
              "    </tr>\n",
              "    <tr>\n",
              "      <th>4</th>\n",
              "      <td>0.0</td>\n",
              "      <td>0.0</td>\n",
              "      <td>0.0</td>\n",
              "      <td>0.000000</td>\n",
              "      <td>0.0</td>\n",
              "      <td>0.0</td>\n",
              "      <td>0.0</td>\n",
              "      <td>0.0</td>\n",
              "      <td>0.0</td>\n",
              "      <td>0.0</td>\n",
              "      <td>0.000000</td>\n",
              "      <td>0.0</td>\n",
              "      <td>0.0</td>\n",
              "      <td>0.0</td>\n",
              "      <td>0.0</td>\n",
              "      <td>0.000000</td>\n",
              "      <td>0.0</td>\n",
              "      <td>0.0</td>\n",
              "      <td>0.000000</td>\n",
              "      <td>0.0</td>\n",
              "    </tr>\n",
              "    <tr>\n",
              "      <th>5</th>\n",
              "      <td>0.0</td>\n",
              "      <td>0.0</td>\n",
              "      <td>0.0</td>\n",
              "      <td>0.000000</td>\n",
              "      <td>0.0</td>\n",
              "      <td>0.0</td>\n",
              "      <td>0.0</td>\n",
              "      <td>0.0</td>\n",
              "      <td>0.0</td>\n",
              "      <td>0.0</td>\n",
              "      <td>0.000000</td>\n",
              "      <td>0.0</td>\n",
              "      <td>0.0</td>\n",
              "      <td>0.0</td>\n",
              "      <td>0.0</td>\n",
              "      <td>0.000000</td>\n",
              "      <td>0.0</td>\n",
              "      <td>0.0</td>\n",
              "      <td>0.000000</td>\n",
              "      <td>0.0</td>\n",
              "    </tr>\n",
              "    <tr>\n",
              "      <th>6</th>\n",
              "      <td>0.0</td>\n",
              "      <td>0.0</td>\n",
              "      <td>0.0</td>\n",
              "      <td>0.000000</td>\n",
              "      <td>0.0</td>\n",
              "      <td>0.0</td>\n",
              "      <td>0.0</td>\n",
              "      <td>0.0</td>\n",
              "      <td>0.0</td>\n",
              "      <td>0.0</td>\n",
              "      <td>0.000000</td>\n",
              "      <td>0.0</td>\n",
              "      <td>0.0</td>\n",
              "      <td>0.0</td>\n",
              "      <td>0.0</td>\n",
              "      <td>0.000000</td>\n",
              "      <td>0.0</td>\n",
              "      <td>0.0</td>\n",
              "      <td>0.073285</td>\n",
              "      <td>0.0</td>\n",
              "    </tr>\n",
              "    <tr>\n",
              "      <th>7</th>\n",
              "      <td>0.0</td>\n",
              "      <td>0.0</td>\n",
              "      <td>0.0</td>\n",
              "      <td>0.000000</td>\n",
              "      <td>0.0</td>\n",
              "      <td>0.0</td>\n",
              "      <td>0.0</td>\n",
              "      <td>0.0</td>\n",
              "      <td>0.0</td>\n",
              "      <td>0.0</td>\n",
              "      <td>0.000000</td>\n",
              "      <td>0.0</td>\n",
              "      <td>0.0</td>\n",
              "      <td>0.0</td>\n",
              "      <td>0.0</td>\n",
              "      <td>0.000000</td>\n",
              "      <td>0.0</td>\n",
              "      <td>0.0</td>\n",
              "      <td>0.000000</td>\n",
              "      <td>0.0</td>\n",
              "    </tr>\n",
              "    <tr>\n",
              "      <th>8</th>\n",
              "      <td>0.0</td>\n",
              "      <td>0.0</td>\n",
              "      <td>0.0</td>\n",
              "      <td>0.072058</td>\n",
              "      <td>0.0</td>\n",
              "      <td>0.0</td>\n",
              "      <td>0.0</td>\n",
              "      <td>0.0</td>\n",
              "      <td>0.0</td>\n",
              "      <td>0.0</td>\n",
              "      <td>0.000000</td>\n",
              "      <td>0.0</td>\n",
              "      <td>0.0</td>\n",
              "      <td>0.0</td>\n",
              "      <td>0.0</td>\n",
              "      <td>0.000000</td>\n",
              "      <td>0.0</td>\n",
              "      <td>0.0</td>\n",
              "      <td>0.000000</td>\n",
              "      <td>0.0</td>\n",
              "    </tr>\n",
              "    <tr>\n",
              "      <th>9</th>\n",
              "      <td>0.0</td>\n",
              "      <td>0.0</td>\n",
              "      <td>0.0</td>\n",
              "      <td>0.000000</td>\n",
              "      <td>0.0</td>\n",
              "      <td>0.0</td>\n",
              "      <td>0.0</td>\n",
              "      <td>0.0</td>\n",
              "      <td>0.0</td>\n",
              "      <td>0.0</td>\n",
              "      <td>0.050946</td>\n",
              "      <td>0.0</td>\n",
              "      <td>0.0</td>\n",
              "      <td>0.0</td>\n",
              "      <td>0.0</td>\n",
              "      <td>0.000000</td>\n",
              "      <td>0.0</td>\n",
              "      <td>0.0</td>\n",
              "      <td>0.000000</td>\n",
              "      <td>0.0</td>\n",
              "    </tr>\n",
              "  </tbody>\n",
              "</table>\n",
              "</div>\n",
              "      <button class=\"colab-df-convert\" onclick=\"convertToInteractive('df-9cf19162-b296-4f2f-8753-a327cbe995a3')\"\n",
              "              title=\"Convert this dataframe to an interactive table.\"\n",
              "              style=\"display:none;\">\n",
              "        \n",
              "  <svg xmlns=\"http://www.w3.org/2000/svg\" height=\"24px\"viewBox=\"0 0 24 24\"\n",
              "       width=\"24px\">\n",
              "    <path d=\"M0 0h24v24H0V0z\" fill=\"none\"/>\n",
              "    <path d=\"M18.56 5.44l.94 2.06.94-2.06 2.06-.94-2.06-.94-.94-2.06-.94 2.06-2.06.94zm-11 1L8.5 8.5l.94-2.06 2.06-.94-2.06-.94L8.5 2.5l-.94 2.06-2.06.94zm10 10l.94 2.06.94-2.06 2.06-.94-2.06-.94-.94-2.06-.94 2.06-2.06.94z\"/><path d=\"M17.41 7.96l-1.37-1.37c-.4-.4-.92-.59-1.43-.59-.52 0-1.04.2-1.43.59L10.3 9.45l-7.72 7.72c-.78.78-.78 2.05 0 2.83L4 21.41c.39.39.9.59 1.41.59.51 0 1.02-.2 1.41-.59l7.78-7.78 2.81-2.81c.8-.78.8-2.07 0-2.86zM5.41 20L4 18.59l7.72-7.72 1.47 1.35L5.41 20z\"/>\n",
              "  </svg>\n",
              "      </button>\n",
              "      \n",
              "  <style>\n",
              "    .colab-df-container {\n",
              "      display:flex;\n",
              "      flex-wrap:wrap;\n",
              "      gap: 12px;\n",
              "    }\n",
              "\n",
              "    .colab-df-convert {\n",
              "      background-color: #E8F0FE;\n",
              "      border: none;\n",
              "      border-radius: 50%;\n",
              "      cursor: pointer;\n",
              "      display: none;\n",
              "      fill: #1967D2;\n",
              "      height: 32px;\n",
              "      padding: 0 0 0 0;\n",
              "      width: 32px;\n",
              "    }\n",
              "\n",
              "    .colab-df-convert:hover {\n",
              "      background-color: #E2EBFA;\n",
              "      box-shadow: 0px 1px 2px rgba(60, 64, 67, 0.3), 0px 1px 3px 1px rgba(60, 64, 67, 0.15);\n",
              "      fill: #174EA6;\n",
              "    }\n",
              "\n",
              "    [theme=dark] .colab-df-convert {\n",
              "      background-color: #3B4455;\n",
              "      fill: #D2E3FC;\n",
              "    }\n",
              "\n",
              "    [theme=dark] .colab-df-convert:hover {\n",
              "      background-color: #434B5C;\n",
              "      box-shadow: 0px 1px 3px 1px rgba(0, 0, 0, 0.15);\n",
              "      filter: drop-shadow(0px 1px 2px rgba(0, 0, 0, 0.3));\n",
              "      fill: #FFFFFF;\n",
              "    }\n",
              "  </style>\n",
              "\n",
              "      <script>\n",
              "        const buttonEl =\n",
              "          document.querySelector('#df-9cf19162-b296-4f2f-8753-a327cbe995a3 button.colab-df-convert');\n",
              "        buttonEl.style.display =\n",
              "          google.colab.kernel.accessAllowed ? 'block' : 'none';\n",
              "\n",
              "        async function convertToInteractive(key) {\n",
              "          const element = document.querySelector('#df-9cf19162-b296-4f2f-8753-a327cbe995a3');\n",
              "          const dataTable =\n",
              "            await google.colab.kernel.invokeFunction('convertToInteractive',\n",
              "                                                     [key], {});\n",
              "          if (!dataTable) return;\n",
              "\n",
              "          const docLinkHtml = 'Like what you see? Visit the ' +\n",
              "            '<a target=\"_blank\" href=https://colab.research.google.com/notebooks/data_table.ipynb>data table notebook</a>'\n",
              "            + ' to learn more about interactive tables.';\n",
              "          element.innerHTML = '';\n",
              "          dataTable['output_type'] = 'display_data';\n",
              "          await google.colab.output.renderOutput(dataTable, element);\n",
              "          const docLink = document.createElement('div');\n",
              "          docLink.innerHTML = docLinkHtml;\n",
              "          element.appendChild(docLink);\n",
              "        }\n",
              "      </script>\n",
              "    </div>\n",
              "  </div>\n",
              "  "
            ]
          },
          "metadata": {},
          "execution_count": 173
        }
      ]
    },
    {
      "cell_type": "code",
      "source": [
        "vectorizer = TfidfVectorizer()\n",
        "vectorizer = TfidfVectorizer(max_features= 1500, # keeping top 1000 most important terms \n",
        "                             min_df= 5,\n",
        "                             max_df = 0.9)\n",
        "    \n",
        "X = vectorizer.fit_transform(df)\n",
        "\n",
        "X.shape"
      ],
      "metadata": {
        "colab": {
          "base_uri": "https://localhost:8080/"
        },
        "id": "WwGCItPot8_C",
        "outputId": "95975c5f-1952-4d0c-d083-62b51dbc3f76"
      },
      "execution_count": null,
      "outputs": [
        {
          "output_type": "execute_result",
          "data": {
            "text/plain": [
              "(2793, 1500)"
            ]
          },
          "metadata": {},
          "execution_count": 175
        }
      ]
    },
    {
      "cell_type": "code",
      "source": [
        "from sklearn.decomposition import TruncatedSVD\n",
        "\n",
        "# SVD represent documents and terms in vectors \n",
        "svd_model = TruncatedSVD(n_components=10, random_state=12, n_iter=200)"
      ],
      "metadata": {
        "id": "chmONF2quDwG"
      },
      "execution_count": null,
      "outputs": []
    },
    {
      "cell_type": "code",
      "source": [
        "svd_model.fit(X)"
      ],
      "metadata": {
        "colab": {
          "base_uri": "https://localhost:8080/"
        },
        "id": "lZPkqxDguK6R",
        "outputId": "050185a8-65ef-4ca8-99d7-840e2645ad17"
      },
      "execution_count": null,
      "outputs": [
        {
          "output_type": "execute_result",
          "data": {
            "text/plain": [
              "TruncatedSVD(n_components=10, n_iter=200, random_state=12)"
            ]
          },
          "metadata": {},
          "execution_count": 177
        }
      ]
    },
    {
      "cell_type": "code",
      "source": [
        "# get column names of document term matrix\n",
        "terms = vectorizer.get_feature_names()\n",
        "\n",
        "for i, comp in enumerate(svd_model.components_):\n",
        "    terms_comp = zip(terms, comp)\n",
        "    sorted_terms = sorted(terms_comp, key= lambda x:x[1], reverse=True)[:50]\n",
        "    \n",
        "    print(\"Trait \"+str(i)+\": \")\n",
        "    traits = []\n",
        "    for t in sorted_terms:\n",
        "        traits.append(t[0])\n",
        "    \n",
        "    print(traits)\n",
        "    #print('\\n')"
      ],
      "metadata": {
        "colab": {
          "base_uri": "https://localhost:8080/"
        },
        "id": "842jDU1AuLTL",
        "outputId": "f1f87a76-345b-472c-c4cd-189f4e18d73d"
      },
      "execution_count": null,
      "outputs": [
        {
          "output_type": "stream",
          "name": "stdout",
          "text": [
            "Trait 0: \n",
            "['dcisc', 'dcpp', 'mr', 'report', 'committee', 'safety', 'dr', 'public', 'state', 'system', 'plant', 'review', 'nrc', 'meeting', 'fuel', 'nuclear', 'pg', 'performance', 'program', 'issue', 'fact', 'volume', 'canyon', 'diablo', 'power', 'action', 'annual', 'follow', 'outage', 'design', 'find', 'member', 'plan', 'seismic', 'unit', 'response', 'event', 'june', 'provide', 'ms', 'station', 'equipment', 'team', 'include', 'use', 'control', 'reactor', 'budnitz', 'independent', 'work']\n",
            "Trait 1: \n",
            "['committee', 'public', 'canyon', 'diablo', 'volume', 'annual', 'meeting', 'report', 'toc', 'th', 'dcisc', 'june', 'member', 'tour', 'independent', 'july', 'exhibit', 'pg', 'summary', 'agenda', 'dr', 'contact', 'matter', 'section', 'preface', 'california', 'executive', 'comment', 'safety', 'nuclear', 'approve', 'october', 'ii', 'response', 'legal', 'peterson', 'san', 'teleconference', 'avila', 'chair', 'session', 'notice', 'twenty', 'request', 'luis', 'receive', 'list', 'counsel', 'discussion', 'lam']\n",
            "Trait 2: \n",
            "['dr', 'mr', 'state', 'ms', 'fuel', 'geesman', 'budnitz', 'remark', 'recognize', 'peterson', 'lam', 'comment', 'observe', 'lewis', 'spend', 'concern', 'cask', 'pool', 'storage', 'nelson', 'nrc', 'public', 'inquire', 'flex', 'presentation', 'member', 'dry', 'becker', 'peace', 'swanson', 'seismic', 'peck', 'earthquake', 'weisman', 'chair', 'groote', 'nugent', 'harbor', 'thank', 'alliance', 'question', 'wardell', 'california', 'assembly', 'request', 'responsibility', 'confirm', 'sfp', 'walter', 'burnup']\n",
            "Trait 3: \n",
            "['fuel', 'pool', 'spend', 'storage', 'cask', 'spent', 'assembly', 'isfsi', 'dry', 'sfp', 'diablo', 'canyon', 'transfer', 'nuclear', 'reactor', 'heat', 'unit', 'water', 'annual', 'volume', 'safety', 'bundle', 'pump', 'independent', 'system', 'inventory', 'outage', 'cool', 'old', 'burnup', 'containment', 'exhibit', 'power', 'strickland', 'installation', 'loading', 'use', 'load', 'core', 'pad', 'july', 'twenty', 'store', 'ii', 'campaign', 'coolant', 'capacity', 'refueling', 'bus', 'movement']\n",
            "Trait 4: \n",
            "['ff', 'fuel', 'pm', 'review', 'satisfactory', 'pool', 'spend', 'storage', 'cask', 'close', 'isfsi', 'spent', 'assembly', 'dry', 'schedule', 'se', 'sc', 'bundle', 'transfer', 'sfp', 'item', 'en', 'open', 'inventory', 'recommendation', 'plan', 'old', 'co', 'annually', 'monitor', 'burnup', 'rjb', 'containment', 'strickland', 'outage', 'pad', 'future', 'items', 'list', 'loading', 'campaign', 'regularly', 'load', 'movement', 'follow', 'installation', 'store', 'annual', 'recommend', 'rack']\n",
            "Trait 5: \n",
            "['public', 'tour', 'meeting', 'committee', 'system', 'agenda', 'member', 'matter', 'unit', 'control', 'kv', 'dcp', 'outage', 'room', 'session', 'comment', 'discussion', 'center', 'health', 'item', 'pump', 'time', 'rfw', 'comments', 'members', 'february', 'minute', 'water', 'avila', 'afternoon', 'building', 'list', 'bus', 'fact', 'notice', 'containment', 'communication', 'confirm', 'legal', 'ccw', 'accessible', 'refueling', 'san', 'teleconference', 'receive', 'action', 'wish', 'request', 'luis', 'speaker']\n",
            "Trait 6: \n",
            "['system', 'cool', 'ff', 'safety', 'bechtel', 'canyon', 'diablo', 'water', 'power', 'pump', 'dr', 'asw', 'heat', 'plant', 'containment', 'alternative', 'option', 'control', 'design', 'state', 'ccw', 'equipment', 'nuclear', 'accident', 'room', 'budnitz', 'impact', 'technology', 'hatch', 'otc', 'reactor', 'approve', 'salt', 'flex', 'motor', 'intake', 'twenty', 'auxiliary', 'kv', 'unit', 'health', 'uhs', 'nugent', 'supply', 'cooling', 'pacific', 'exist', 'shutdown', 'ocean', 'tower']\n",
            "Trait 7: \n",
            "['seismic', 'pra', 'dcisc', 'dcpp', 'hazard', 'design', 'emergency', 'hatch', 'analysis', 'project', 'site', 'update', 'earthquake', 'work', 'information', 'basis', 'fire', 'team', 'security', 'quality', 'cyber', 'software', 'licensing', 'fragility', 'training', 'fact', 'social', 'probabilistic', 'complete', 'support', 'study', 'current', 'closure', 'new', 'medium', 'containment', 'plan', 'use', 'tsunami', 'workshop', 'capability', 'follow', 'lbvp', 'plant', 'progress', 'completion', 'recommendation', 'county', 'option', 'source']\n",
            "Trait 8: \n",
            "['risk', 'work', 'committee', 'cause', 'pra', 'power', 'maintenance', 'action', 'nuclear', 'root', 'assessment', 'bechtel', 'procedure', 'canyon', 'diablo', 'group', 'evaluation', 'operations', 'bus', 'corrective', 'phase', 'use', 'safety', 'rce', 'line', 'operation', 'seal', 'human', 'troubleshooting', 'cool', 'dr', 'agenda', 'plant', 'alternative', 'information', 'industry', 'technology', 'qv', 'technical', 'analysis', 'station', 'ssff', 'role', 'twenty', 'chair', 'approve', 'event', 'planning', 'october', 'peterson']\n",
            "Trait 9: \n",
            "['outage', 'program', 'hatch', 'health', 'containment', 'plan', 'committee', 'quality', 'closure', 'safety', 'ms', 'software', 'refueling', 'approve', 'state', 'wardell', 'section', 'dr', 'system', 'exhibit', 'cyber', 'schedule', 'follow', 'matter', 'knowledge', 'maintenance', 'process', 'twenty', 'mr', 'phc', 'ii', 'acid', 'item', 'boric', 'walter', 'movement', 'management', 'repair', 'replacement', 'seal', 'canyon', 'diablo', 'procedure', 'digital', 'restart', 'appear', 'close', 'assurance', 'geesman', 'director']\n"
          ]
        },
        {
          "output_type": "stream",
          "name": "stderr",
          "text": [
            "/usr/local/lib/python3.8/dist-packages/sklearn/utils/deprecation.py:87: FutureWarning: Function get_feature_names is deprecated; get_feature_names is deprecated in 1.0 and will be removed in 1.2. Please use get_feature_names_out instead.\n",
            "  warnings.warn(msg, category=FutureWarning)\n"
          ]
        }
      ]
    },
    {
      "cell_type": "code",
      "source": [
        "lsa_topic_matrix = svd_model.transform(X)\n",
        "lsa_topic_matrix.shape"
      ],
      "metadata": {
        "colab": {
          "base_uri": "https://localhost:8080/"
        },
        "id": "HJmPmkqPuYdV",
        "outputId": "dda62562-547b-47e9-c11e-d151b0843dac"
      },
      "execution_count": null,
      "outputs": [
        {
          "output_type": "execute_result",
          "data": {
            "text/plain": [
              "(2793, 10)"
            ]
          },
          "metadata": {},
          "execution_count": 179
        }
      ]
    },
    {
      "cell_type": "code",
      "source": [
        "lsa_topic_matrix[41]"
      ],
      "metadata": {
        "colab": {
          "base_uri": "https://localhost:8080/"
        },
        "id": "nuXwH1IkupXh",
        "outputId": "b49d4c6d-4034-4ab2-8c2d-041f97dae50b"
      },
      "execution_count": null,
      "outputs": [
        {
          "output_type": "execute_result",
          "data": {
            "text/plain": [
              "array([ 0.40635807,  0.39586239, -0.29766897,  0.03789144,  0.03855703,\n",
              "       -0.13396371, -0.13095958,  0.02019199, -0.19255946, -0.02668518])"
            ]
          },
          "metadata": {},
          "execution_count": 180
        }
      ]
    },
    {
      "cell_type": "code",
      "source": [
        "len(clean_articles)"
      ],
      "metadata": {
        "colab": {
          "base_uri": "https://localhost:8080/"
        },
        "id": "e9QFJgy7usfD",
        "outputId": "8358a646-6d3d-454a-9008-a2f453b2e56b"
      },
      "execution_count": null,
      "outputs": [
        {
          "output_type": "execute_result",
          "data": {
            "text/plain": [
              "34506"
            ]
          },
          "metadata": {},
          "execution_count": 100
        }
      ]
    },
    {
      "cell_type": "code",
      "source": [
        "df[9]"
      ],
      "metadata": {
        "colab": {
          "base_uri": "https://localhost:8080/",
          "height": 303
        },
        "id": "R82qgTL5uvbb",
        "outputId": "c85062c0-53d0-4636-dee4-bb5aa14261b3"
      },
      "execution_count": null,
      "outputs": [
        {
          "output_type": "execute_result",
          "data": {
            "text/plain": [
              "'problem failure increase frequency critical Event Clock Resets second half equipment problem aging lead increasingly negative trend station Deficient Critical Component Backlog Orders dcpp performance reduce eliminate Safety System Functional Failures improve despite implementation corrective action plan DCPP Root Cause Evaluation Unit trip percent power follow failure kV Main Bank Transformer phase lightning arrester extensive appear reasonable dcpp operational performance measure statistical parameter representative continuation generally improve trend trend especially reflect improvement outage management collective radiation exposure avoid NRC Substantive Cross cut issue area DCISC consider future review include Equipment Reliability Human performance implementation Corrective Action Program DCPP deal effectively equipment system problem focus improve system health Systems source emergency electrical power station vital electrical equipment station Emergency Diesel Generators kv system supply offsite electrical grid find operational focus station NRC attention dcpp Plant Health Committee improve focus system component health meet frequently overall system health improve System Engineer Component Program continue effective result chemical analysis feedwater steam generator sample indicate negative potential impact steam generator performance DCPP Readiness Restart outage Program appear appropriate implementation program Outage effectively carry DCPP concrete repair procedure repair concrete Intake Structure appear satisfactory DCPP Outage Outage Safety Plan comprehensive detailed document describe schedule step outage identify high risk core boiling damage result lose electric power cool reactor core Spent Fuel Pool backup system available emphasis prevention incident mitigation accident control radioactive material exception Outage Safety Plan appear design achieve outage safety exception new dcpp requirement Containment Equipment Hatch close secure fuel movement specifically address DCISC believe specifically address Outage Safety Plan DCPP Outage result positive exception loss Spent Fuel Pool cool Pump electric grid disturbance operator restart pump safety consequence event DCISC review DCPP safety security interface current period find DCPP safety security interface appropriately design implement prior period DCISC believe DCPP prudent plan campaign come year spend fuel Spent Fuel Pools Independent Spent Fuel Storage'"
            ],
            "application/vnd.google.colaboratory.intrinsic+json": {
              "type": "string"
            }
          },
          "metadata": {},
          "execution_count": 181
        }
      ]
    },
    {
      "cell_type": "code",
      "source": [
        "lsa_topic_matrix[9]"
      ],
      "metadata": {
        "colab": {
          "base_uri": "https://localhost:8080/"
        },
        "id": "j45xEqzzu-Qv",
        "outputId": "55be216c-434e-434b-e71e-dc729a3bbfb7"
      },
      "execution_count": null,
      "outputs": [
        {
          "output_type": "execute_result",
          "data": {
            "text/plain": [
              "array([ 0.45347092, -0.33438157, -0.15775993,  0.15810301,  0.06477593,\n",
              "        0.09158535, -0.06700183, -0.03110965, -0.01485701,  0.12641723])"
            ]
          },
          "metadata": {},
          "execution_count": 183
        }
      ]
    },
    {
      "cell_type": "code",
      "source": [
        "np.argmax(lsa_topic_matrix[9])"
      ],
      "metadata": {
        "colab": {
          "base_uri": "https://localhost:8080/"
        },
        "id": "PPHO4rnqFXRk",
        "outputId": "a6df0f0f-6fe0-42e4-f368-235740d84a2c"
      },
      "execution_count": null,
      "outputs": [
        {
          "output_type": "execute_result",
          "data": {
            "text/plain": [
              "0"
            ]
          },
          "metadata": {},
          "execution_count": 184
        }
      ]
    },
    {
      "cell_type": "code",
      "source": [
        "np.argmax(lsa_topic_matrix[10])"
      ],
      "metadata": {
        "colab": {
          "base_uri": "https://localhost:8080/"
        },
        "id": "i0e1jTY5FgFw",
        "outputId": "229b663f-bf60-4a7b-8178-87d62c47c015"
      },
      "execution_count": null,
      "outputs": [
        {
          "output_type": "execute_result",
          "data": {
            "text/plain": [
              "0"
            ]
          },
          "metadata": {},
          "execution_count": 185
        }
      ]
    },
    {
      "cell_type": "code",
      "source": [
        "lsa_topic_matrix[10]"
      ],
      "metadata": {
        "colab": {
          "base_uri": "https://localhost:8080/"
        },
        "id": "PkuHN0bcFhsx",
        "outputId": "9bf245c2-5020-424f-cd64-ccf56a318641"
      },
      "execution_count": null,
      "outputs": [
        {
          "output_type": "execute_result",
          "data": {
            "text/plain": [
              "array([ 0.4487118 , -0.13049787, -0.04500933, -0.01223719,  0.03991346,\n",
              "       -0.06707899, -0.06951463,  0.30783402, -0.04588156, -0.07169738])"
            ]
          },
          "metadata": {},
          "execution_count": 186
        }
      ]
    },
    {
      "cell_type": "code",
      "source": [
        "np.argmax(lsa_topic_matrix[42])"
      ],
      "metadata": {
        "colab": {
          "base_uri": "https://localhost:8080/"
        },
        "id": "BTxyWPsqFj-6",
        "outputId": "162dde02-9447-4f20-932d-28118c7c33fe"
      },
      "execution_count": null,
      "outputs": [
        {
          "output_type": "execute_result",
          "data": {
            "text/plain": [
              "1"
            ]
          },
          "metadata": {},
          "execution_count": 187
        }
      ]
    },
    {
      "cell_type": "code",
      "source": [
        "lsa_topic_matrix[42]"
      ],
      "metadata": {
        "colab": {
          "base_uri": "https://localhost:8080/"
        },
        "id": "6u7KC4FJFmKA",
        "outputId": "3f4b78f9-de39-4a8c-892f-69d069d6033c"
      },
      "execution_count": null,
      "outputs": [
        {
          "output_type": "execute_result",
          "data": {
            "text/plain": [
              "array([ 0.34810117,  0.43179873, -0.132206  , -0.03299011,  0.00701211,\n",
              "        0.21291087, -0.07420563,  0.01414791, -0.03187479, -0.07330646])"
            ]
          },
          "metadata": {},
          "execution_count": 188
        }
      ]
    },
    {
      "cell_type": "code",
      "source": [],
      "metadata": {
        "id": "uLmP16qMFn9t"
      },
      "execution_count": null,
      "outputs": []
    }
  ]
}